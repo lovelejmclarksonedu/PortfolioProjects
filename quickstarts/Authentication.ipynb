{
  "cells": [
    {
      "cell_type": "markdown",
      "metadata": {
        "id": "Tce3stUlHN0L"
      },
      "source": [
        "##### Copyright 2025 Google LLC."
      ]
    },
    {
      "cell_type": "code",
      "execution_count": null,
      "metadata": {
        "cellView": "form",
        "id": "tuOe1ymfHZPu"
      },
      "outputs": [],
      "source": [
        "# @title Licensed under the Apache License, Version 2.0 (the \"License\");\n",
        "# you may not use this file except in compliance with the License.\n",
        "# You may obtain a copy of the License at\n",
        "#\n",
        "# https://www.apache.org/licenses/LICENSE-2.0\n",
        "#\n",
        "# Unless required by applicable law or agreed to in writing, software\n",
        "# distributed under the License is distributed on an \"AS IS\" BASIS,\n",
        "# WITHOUT WARRANTIES OR CONDITIONS OF ANY KIND, either express or implied.\n",
        "# See the License for the specific language governing permissions and\n",
        "# limitations under the License."
      ]
    },
    {
      "cell_type": "markdown",
      "metadata": {
        "id": "yeadDkMiISin"
      },
      "source": [
        "# Gemini API: Authentication Quickstart"
      ]
    },
    {
      "cell_type": "markdown",
      "metadata": {
        "id": "lEXQ3OwKIa-O"
      },
      "source": [
        "<a target=\"_blank\" href=\"https://colab.research.google.com/github/google-gemini/cookbook/blob/main/quickstarts/Authentication.ipynb\"><img src=\"https://colab.research.google.com/assets/colab-badge.svg\" height=30/></a>"
      ]
    },
    {
      "cell_type": "markdown",
      "metadata": {
        "id": "df1767a3d1cc"
      },
      "source": [
        "The Gemini API uses API keys for authentication. This notebook walks you through creating an API key, and using it with the Python SDK or a command-line tool like `curl`."
      ]
    },
    {
      "cell_type": "markdown",
      "metadata": {
        "id": "mhFKmRmxi5B-"
      },
      "source": [
        "## Create an API key\n",
        "\n",
        "You can [create](https://aistudio.google.com/app/apikey) your API key using Google AI Studio with a single click.  \n",
        "\n",
        "Remember to treat your API key like a password. Don't accidentally save it in a notebook or source file you later commit to GitHub. This notebook shows you two ways you can securely store your API key.\n",
        "\n",
        "* If you're using Google Colab, it's recommended to store your key in Colab Secrets.\n",
        "\n",
        "* If you're using a different development environment (or calling the Gemini API through `cURL` in your terminal), it's recommended to store your key in an [environment variable](https://en.wikipedia.org/wiki/Environment_variable).\n",
        "\n",
        "Let's start with Colab Secrets."
      ]
    },
    {
      "cell_type": "markdown",
      "metadata": {
        "id": "dEoigYI9Jw_K"
      },
      "source": [
        "## Add your key to Colab Secrets\n",
        "\n",
        "Add your API key to the Colab Secrets manager to securely store it.\n",
        "\n",
        "1. Open your Google Colab notebook and click on the 🔑 **Secrets** tab in the left panel.\n",
        "   \n",
        "   <img src=\"https://storage.googleapis.com/generativeai-downloads/images/secrets.jpg\" alt=\"You can find the Secrets tab on the left panel.\" width=50%>\n",
        "\n",
        "2. Create a new secret with the name `GOOGLE_API_KEY`.\n",
        "3. Copy and paste your API key into the `Value` input box of `GOOGLE_API_KEY`.\n",
        "4. Toggle the button on the left to allow all notebooks access to the secret.\n"
      ]
    },
    {
      "cell_type": "markdown",
      "metadata": {
        "id": "jRY1eioF4gUB"
      },
      "source": [
        "## Install the Python SDK"
      ]
    },
    {
      "cell_type": "code",
      "execution_count": 1,
      "metadata": {
        "id": "xuiLSV7amy3P",
        "outputId": "902d516a-47df-4dd0-90f4-afa85d44ceb9",
        "colab": {
          "base_uri": "https://localhost:8080/"
        }
      },
      "outputs": [
        {
          "output_type": "stream",
          "name": "stdout",
          "text": [
            "\u001b[?25l   \u001b[90m━━━━━━━━━━━━━━━━━━━━━━━━━━━━━━━━━━━━━━━━\u001b[0m \u001b[32m0.0/199.5 kB\u001b[0m \u001b[31m?\u001b[0m eta \u001b[36m-:--:--\u001b[0m\r\u001b[2K   \u001b[90m━━━━━━━━━━━━━━━━━━━━━━━━━━━━━━━━━━━━━━━━\u001b[0m \u001b[32m199.5/199.5 kB\u001b[0m \u001b[31m6.4 MB/s\u001b[0m eta \u001b[36m0:00:00\u001b[0m\n",
            "\u001b[?25h"
          ]
        }
      ],
      "source": [
        "%pip install -qU 'google-genai>=1.0.0'"
      ]
    },
    {
      "cell_type": "markdown",
      "metadata": {
        "id": "3dw8ygh74mVc"
      },
      "source": [
        "## Configure the SDK with your API key\n",
        "\n",
        "You create a client using your API key, but instead of pasting your key into the notebook, you'll read it from Colab Secrets thanks to `userdata`."
      ]
    },
    {
      "cell_type": "code",
      "execution_count": 2,
      "metadata": {
        "id": "DTl-qZp34sht"
      },
      "outputs": [],
      "source": [
        "from google import genai\n",
        "from google.colab import userdata\n",
        "\n",
        "GOOGLE_API_KEY = userdata.get('GOOGLE_API_KEY')\n",
        "client = genai.Client(api_key=GOOGLE_API_KEY)"
      ]
    },
    {
      "cell_type": "markdown",
      "metadata": {
        "id": "b7ceb7517bf5"
      },
      "source": [
        "Now choose a model. The Gemini API offers different models that are optimized for specific use cases. For more information check [Gemini models](https://ai.google.dev/gemini-api/docs/models)"
      ]
    },
    {
      "cell_type": "code",
      "execution_count": 3,
      "metadata": {
        "id": "7135d9ae3e4b"
      },
      "outputs": [],
      "source": [
        "MODEL_ID = \"gemini-2.5-flash-preview-05-20\" # @param [\"gemini-2.0-flash-lite\",\"gemini-2.0-flash\",\"gemini-2.5-flash-preview-05-20\",\"gemini-2.5-pro-preview-05-06\"] {\"allow-input\":true, isTemplate: true}"
      ]
    },
    {
      "cell_type": "markdown",
      "metadata": {
        "id": "tr7oAO6-nMsE"
      },
      "source": [
        "And that's it! Now you're ready to call the Gemini API."
      ]
    },
    {
      "cell_type": "code",
      "execution_count": 4,
      "metadata": {
        "id": "n6sXnWrJoKoo",
        "outputId": "a9bca987-9d88-40d0-fe1f-29e931ccee4c",
        "colab": {
          "base_uri": "https://localhost:8080/",
          "height": 1000
        }
      },
      "outputs": [
        {
          "output_type": "display_data",
          "data": {
            "text/plain": [
              "<IPython.core.display.Markdown object>"
            ],
            "text/markdown": "Python provides two main ways to sort a list:\n\n1.  **`list.sort()` method:** This method sorts the list **in-place**, meaning it modifies the original list and returns `None`.\n2.  **`sorted()` built-in function:** This function returns a **new sorted list**, leaving the original list unchanged. It can sort any iterable (like lists, tuples, strings, etc.).\n\nLet's look at examples for both.\n\n---\n\n### 1. Using `list.sort()` (In-place sorting)\n\nThis is a method directly available on list objects.\n\n```python\n# --- Example 1: Basic sorting of numbers ---\nmy_list = [3, 1, 4, 1, 5, 9, 2]\nprint(\"Original list:\", my_list)\n\nmy_list.sort() # Sorts the list in ascending order, modifies my_list\nprint(\"Sorted list (ascending):\", my_list)\n\n# --- Example 2: Sorting in descending order ---\nmy_list = [3, 1, 4, 1, 5, 9, 2] # Re-initialize for demonstration\nmy_list.sort(reverse=True) # Sorts in descending order\nprint(\"Sorted list (descending):\", my_list)\n\n# --- Example 3: Sorting strings ---\nfruits = [\"banana\", \"apple\", \"cherry\", \"date\"]\nfruits.sort()\nprint(\"Sorted fruits (alphabetical):\", fruits)\n\n# --- Example 4: Sorting with a custom key (e.g., by length of strings) ---\nwords = [\"apple\", \"banana\", \"kiwi\", \"grapefruit\"]\nwords.sort(key=len) # Sorts based on the length of each string\nprint(\"Sorted words (by length):\", words)\n\n# --- Example 5: Sorting a list of dictionaries by a specific value ---\nstudents = [\n    {'name': 'Alice', 'age': 30, 'grade': 'B'},\n    {'name': 'Bob', 'age': 25, 'grade': 'A'},\n    {'name': 'Charlie', 'age': 35, 'grade': 'C'}\n]\n\n# Sort by 'age'\nstudents.sort(key=lambda student: student['age'])\nprint(\"Students sorted by age:\", students)\n\n# Sort by 'name' in reverse alphabetical order\nstudents.sort(key=lambda student: student['name'], reverse=True)\nprint(\"Students sorted by name (descending):\", students)\n```\n\n**Key Points about `list.sort()`:**\n*   It modifies the list directly.\n*   It returns `None`, so you cannot do `new_list = old_list.sort()`.\n*   It's generally slightly more memory-efficient as it doesn't create a new list.\n\n---\n\n### 2. Using `sorted()` (Returns a new sorted list)\n\nThis built-in function is more flexible as it can take any iterable and always returns a new list.\n\n```python\n# --- Example 1: Basic sorting of numbers ---\nmy_list = [3, 1, 4, 1, 5, 9, 2]\nprint(\"Original list:\", my_list)\n\nnew_sorted_list = sorted(my_list) # Returns a new sorted list\nprint(\"New sorted list (ascending):\", new_sorted_list)\nprint(\"Original list (unchanged):\", my_list) # Original list is not modified\n\n# --- Example 2: Sorting in descending order ---\nnew_sorted_list_desc = sorted(my_list, reverse=True)\nprint(\"New sorted list (descending):\", new_sorted_list_desc)\n\n# --- Example 3: Sorting strings ---\nfruits = [\"banana\", \"apple\", \"cherry\", \"date\"]\nsorted_fruits = sorted(fruits)\nprint(\"Sorted fruits (alphabetical):\", sorted_fruits)\n\n# --- Example 4: Sorting with a custom key (e.g., by length of strings) ---\nwords = [\"apple\", \"banana\", \"kiwi\", \"grapefruit\"]\nsorted_words_by_len = sorted(words, key=len)\nprint(\"Sorted words (by length):\", sorted_words_by_len)\n\n# --- Example 5: Sorting a list of dictionaries by a specific value ---\nstudents = [\n    {'name': 'Alice', 'age': 30, 'grade': 'B'},\n    {'name': 'Bob', 'age': 25, 'grade': 'A'},\n    {'name': 'Charlie', 'age': 35, 'grade': 'C'}\n]\n\n# Sort by 'age'\nsorted_students_by_age = sorted(students, key=lambda student: student['age'])\nprint(\"Sorted students by age:\", sorted_students_by_age)\n\n# Sort by 'name' in reverse alphabetical order\nsorted_students_by_name_desc = sorted(students, key=lambda student: student['name'], reverse=True)\nprint(\"Sorted students by name (descending):\", sorted_students_by_name_desc)\n\n# --- Example 6: Sorting a tuple (sorted() returns a list even if input is not a list) ---\nmy_tuple = (5, 2, 8, 1, 9)\nsorted_from_tuple = sorted(my_tuple)\nprint(\"Sorted from tuple:\", sorted_from_tuple) # Output is a list\n```\n\n**Key Points about `sorted()`:**\n*   It always returns a `new` list.\n*   It does not modify the original iterable.\n*   It can take any iterable (lists, tuples, sets, strings, etc.) as input.\n\n---\n\n### When to use which?\n\n*   Use **`list.sort()`** when you:\n    *   Want to modify the original list.\n    *   Don't need the original unsorted version of the list.\n    *   Are working with a list (not other iterables).\n\n*   Use **`sorted()`** when you:\n    *   Need a new, sorted list and want to preserve the original.\n    *   Want to sort an iterable that is not a list (e.g., a tuple, set, string).\n    *   Want to use the result of sorting directly in an expression."
          },
          "metadata": {}
        }
      ],
      "source": [
        "from IPython.display import Markdown\n",
        "\n",
        "response = client.models.generate_content(\n",
        "    model=MODEL_ID,\n",
        "    contents=\"Please give me python code to sort a list.\"\n",
        ")\n",
        "\n",
        "display(Markdown(response.text))"
      ]
    },
    {
      "cell_type": "markdown",
      "metadata": {
        "id": "BTdQtZri1Brs"
      },
      "source": [
        "## Store your key in an environment variable"
      ]
    },
    {
      "cell_type": "markdown",
      "metadata": {
        "id": "gZDX51Y27pN4"
      },
      "source": [
        "If you're using a different development environment (or calling the Gemini API through `cURL` in your terminal), it's recommended to store your key in an environment variable.\n",
        "\n",
        "To store your key in an environment variable, open your terminal and run:\n",
        "\n",
        "```export GOOGLE_API_KEY=\"YOUR_API_KEY\"```\n",
        "\n",
        "If you're using Python, you can add these two lines to your notebook to read the key:\n",
        "\n",
        "```\n",
        "import os\n",
        "client = genai.Client(api_key=os.environ['GOOGLE_API_KEY'])\n",
        "```\n",
        "\n",
        "Alternatively, if it isn't provided explicitly, the client will look for the API key.\n",
        "\n",
        "```\n",
        "client = genai.Client()\n",
        "```\n",
        "\n",
        "Or, if you're calling the API through your terminal using `cURL`, you can copy and paste this code to read your key from the environment variable.\n",
        "\n",
        "```\n",
        "curl \"https://generativelanguage.googleapis.com/v1beta/models/gemini-2.0-flash:generateContent?key=$GOOGLE_API_KEY\" \\\n",
        "    -H 'Content-Type: application/json' \\\n",
        "    -X POST \\\n",
        "    -d '{\n",
        "      \"contents\": [{\n",
        "        \"parts\":[{\n",
        "          \"text\": \"Please give me Python code to sort a list.\"\n",
        "        }]\n",
        "      }]\n",
        "    }'\n",
        "```\n"
      ]
    },
    {
      "cell_type": "markdown",
      "metadata": {
        "id": "CAOKOcax1xZY"
      },
      "source": [
        "## Learning more\n",
        "\n",
        "Now that you know how to manage your API key, you've everything to [get started](./Get_started.ipynb) with Gemini. Check all the [quickstart guides](https://github.com/google-gemini/cookbook/tree/main/quickstarts) from the Cookbook, and in particular the [Get started](./Get_started.ipynb) one."
      ]
    }
  ],
  "metadata": {
    "colab": {
      "name": "Authentication.ipynb",
      "provenance": []
    },
    "google": {
      "image_path": "/site-assets/images/share.png",
      "keywords": [
        "examples",
        "googleai",
        "samplecode",
        "python",
        "embed",
        "function"
      ]
    },
    "kernelspec": {
      "display_name": "Python 3",
      "name": "python3"
    }
  },
  "nbformat": 4,
  "nbformat_minor": 0
}